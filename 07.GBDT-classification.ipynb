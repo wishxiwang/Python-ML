{
 "cells": [
  {
   "cell_type": "code",
   "execution_count": 14,
   "metadata": {},
   "outputs": [
    {
     "data": {
      "text/html": [
       "<div>\n",
       "<style scoped>\n",
       "    .dataframe tbody tr th:only-of-type {\n",
       "        vertical-align: middle;\n",
       "    }\n",
       "\n",
       "    .dataframe tbody tr th {\n",
       "        vertical-align: top;\n",
       "    }\n",
       "\n",
       "    .dataframe thead th {\n",
       "        text-align: right;\n",
       "    }\n",
       "</style>\n",
       "<table border=\"1\" class=\"dataframe\">\n",
       "  <thead>\n",
       "    <tr style=\"text-align: right;\">\n",
       "      <th></th>\n",
       "      <th>Disbursed</th>\n",
       "      <th>Existing_EMI</th>\n",
       "      <th>ID</th>\n",
       "      <th>Loan_Amount_Applied</th>\n",
       "      <th>Loan_Tenure_Applied</th>\n",
       "      <th>Monthly_Income</th>\n",
       "      <th>Var4</th>\n",
       "      <th>Var5</th>\n",
       "      <th>Age</th>\n",
       "      <th>EMI_Loan_Submitted_Missing</th>\n",
       "      <th>...</th>\n",
       "      <th>Var2_2</th>\n",
       "      <th>Var2_3</th>\n",
       "      <th>Var2_4</th>\n",
       "      <th>Var2_5</th>\n",
       "      <th>Var2_6</th>\n",
       "      <th>Mobile_Verified_0</th>\n",
       "      <th>Mobile_Verified_1</th>\n",
       "      <th>Source_0</th>\n",
       "      <th>Source_1</th>\n",
       "      <th>Source_2</th>\n",
       "    </tr>\n",
       "  </thead>\n",
       "  <tbody>\n",
       "    <tr>\n",
       "      <th>0</th>\n",
       "      <td>0</td>\n",
       "      <td>0.0</td>\n",
       "      <td>ID000002C20</td>\n",
       "      <td>300000</td>\n",
       "      <td>5</td>\n",
       "      <td>20000</td>\n",
       "      <td>1</td>\n",
       "      <td>0</td>\n",
       "      <td>37</td>\n",
       "      <td>1</td>\n",
       "      <td>...</td>\n",
       "      <td>0</td>\n",
       "      <td>0</td>\n",
       "      <td>0</td>\n",
       "      <td>0</td>\n",
       "      <td>1</td>\n",
       "      <td>1</td>\n",
       "      <td>0</td>\n",
       "      <td>1</td>\n",
       "      <td>0</td>\n",
       "      <td>0</td>\n",
       "    </tr>\n",
       "    <tr>\n",
       "      <th>1</th>\n",
       "      <td>0</td>\n",
       "      <td>0.0</td>\n",
       "      <td>ID000004E40</td>\n",
       "      <td>200000</td>\n",
       "      <td>2</td>\n",
       "      <td>35000</td>\n",
       "      <td>3</td>\n",
       "      <td>13</td>\n",
       "      <td>30</td>\n",
       "      <td>0</td>\n",
       "      <td>...</td>\n",
       "      <td>0</td>\n",
       "      <td>0</td>\n",
       "      <td>0</td>\n",
       "      <td>0</td>\n",
       "      <td>1</td>\n",
       "      <td>0</td>\n",
       "      <td>1</td>\n",
       "      <td>1</td>\n",
       "      <td>0</td>\n",
       "      <td>0</td>\n",
       "    </tr>\n",
       "    <tr>\n",
       "      <th>2</th>\n",
       "      <td>0</td>\n",
       "      <td>0.0</td>\n",
       "      <td>ID000007H20</td>\n",
       "      <td>600000</td>\n",
       "      <td>4</td>\n",
       "      <td>22500</td>\n",
       "      <td>1</td>\n",
       "      <td>0</td>\n",
       "      <td>34</td>\n",
       "      <td>1</td>\n",
       "      <td>...</td>\n",
       "      <td>0</td>\n",
       "      <td>0</td>\n",
       "      <td>0</td>\n",
       "      <td>0</td>\n",
       "      <td>0</td>\n",
       "      <td>0</td>\n",
       "      <td>1</td>\n",
       "      <td>0</td>\n",
       "      <td>0</td>\n",
       "      <td>1</td>\n",
       "    </tr>\n",
       "    <tr>\n",
       "      <th>3</th>\n",
       "      <td>0</td>\n",
       "      <td>0.0</td>\n",
       "      <td>ID000008I30</td>\n",
       "      <td>1000000</td>\n",
       "      <td>5</td>\n",
       "      <td>35000</td>\n",
       "      <td>3</td>\n",
       "      <td>10</td>\n",
       "      <td>28</td>\n",
       "      <td>1</td>\n",
       "      <td>...</td>\n",
       "      <td>0</td>\n",
       "      <td>0</td>\n",
       "      <td>0</td>\n",
       "      <td>0</td>\n",
       "      <td>0</td>\n",
       "      <td>0</td>\n",
       "      <td>1</td>\n",
       "      <td>0</td>\n",
       "      <td>0</td>\n",
       "      <td>1</td>\n",
       "    </tr>\n",
       "    <tr>\n",
       "      <th>4</th>\n",
       "      <td>0</td>\n",
       "      <td>25000.0</td>\n",
       "      <td>ID000009J40</td>\n",
       "      <td>500000</td>\n",
       "      <td>2</td>\n",
       "      <td>100000</td>\n",
       "      <td>3</td>\n",
       "      <td>17</td>\n",
       "      <td>31</td>\n",
       "      <td>1</td>\n",
       "      <td>...</td>\n",
       "      <td>0</td>\n",
       "      <td>0</td>\n",
       "      <td>0</td>\n",
       "      <td>0</td>\n",
       "      <td>0</td>\n",
       "      <td>0</td>\n",
       "      <td>1</td>\n",
       "      <td>0</td>\n",
       "      <td>0</td>\n",
       "      <td>1</td>\n",
       "    </tr>\n",
       "  </tbody>\n",
       "</table>\n",
       "<p>5 rows × 51 columns</p>\n",
       "</div>"
      ],
      "text/plain": [
       "   Disbursed  Existing_EMI           ID  Loan_Amount_Applied  \\\n",
       "0          0           0.0  ID000002C20               300000   \n",
       "1          0           0.0  ID000004E40               200000   \n",
       "2          0           0.0  ID000007H20               600000   \n",
       "3          0           0.0  ID000008I30              1000000   \n",
       "4          0       25000.0  ID000009J40               500000   \n",
       "\n",
       "   Loan_Tenure_Applied  Monthly_Income  Var4  Var5  Age  \\\n",
       "0                    5           20000     1     0   37   \n",
       "1                    2           35000     3    13   30   \n",
       "2                    4           22500     1     0   34   \n",
       "3                    5           35000     3    10   28   \n",
       "4                    2          100000     3    17   31   \n",
       "\n",
       "   EMI_Loan_Submitted_Missing    ...     Var2_2  Var2_3  Var2_4  Var2_5  \\\n",
       "0                           1    ...          0       0       0       0   \n",
       "1                           0    ...          0       0       0       0   \n",
       "2                           1    ...          0       0       0       0   \n",
       "3                           1    ...          0       0       0       0   \n",
       "4                           1    ...          0       0       0       0   \n",
       "\n",
       "   Var2_6  Mobile_Verified_0  Mobile_Verified_1  Source_0  Source_1  Source_2  \n",
       "0       1                  1                  0         1         0         0  \n",
       "1       1                  0                  1         1         0         0  \n",
       "2       0                  0                  1         0         0         1  \n",
       "3       0                  0                  1         0         0         1  \n",
       "4       0                  0                  1         0         0         1  \n",
       "\n",
       "[5 rows x 51 columns]"
      ]
     },
     "execution_count": 14,
     "metadata": {},
     "output_type": "execute_result"
    }
   ],
   "source": [
    "import pandas as pd\n",
    "train_data = pd.read_csv('./DataSets/train_modified.csv')\n",
    "train_data.head()"
   ]
  },
  {
   "cell_type": "code",
   "execution_count": 31,
   "metadata": {},
   "outputs": [
    {
     "name": "stdout",
     "output_type": "stream",
     "text": [
      "(20000, 49)\n",
      "(20000,)\n"
     ]
    }
   ],
   "source": [
    "x_columns = [x for x in train_data.columns if x not in ['ID', 'Disbursed']]\n",
    "x = train_data[x_columns]\n",
    "y = train_data['Disbursed']\n",
    "print(x.shape)\n",
    "print(y.shape)"
   ]
  },
  {
   "cell_type": "code",
   "execution_count": 33,
   "metadata": {},
   "outputs": [
    {
     "name": "stdout",
     "output_type": "stream",
     "text": [
      "0.98525\n"
     ]
    }
   ],
   "source": [
    "#使用默认参数进行训练\n",
    "from sklearn.ensemble import GradientBoostingClassifier\n",
    "from sklearn import metrics\n",
    "gbm1 = GradientBoostingClassifier()\n",
    "gbm1.fit(x,y)\n",
    "y_pred = gbm1.predict(x)\n",
    "print(metrics.accuracy_score(y_pred,y))"
   ]
  },
  {
   "cell_type": "code",
   "execution_count": 42,
   "metadata": {},
   "outputs": [
    {
     "name": "stdout",
     "output_type": "stream",
     "text": [
      "0.98315 {'learning_rate': 0.1, 'n_estimators': 50}\n"
     ]
    },
    {
     "data": {
      "text/plain": [
       "[mean: 0.98315, std: 0.00049, params: {'learning_rate': 0.1, 'n_estimators': 50},\n",
       " mean: 0.98275, std: 0.00049, params: {'learning_rate': 0.1, 'n_estimators': 100},\n",
       " mean: 0.98225, std: 0.00051, params: {'learning_rate': 0.1, 'n_estimators': 150},\n",
       " mean: 0.98240, std: 0.00039, params: {'learning_rate': 0.1, 'n_estimators': 200},\n",
       " mean: 0.98190, std: 0.00078, params: {'learning_rate': 0.3, 'n_estimators': 50},\n",
       " mean: 0.98095, std: 0.00068, params: {'learning_rate': 0.3, 'n_estimators': 100},\n",
       " mean: 0.98060, std: 0.00086, params: {'learning_rate': 0.3, 'n_estimators': 150},\n",
       " mean: 0.98045, std: 0.00092, params: {'learning_rate': 0.3, 'n_estimators': 200},\n",
       " mean: 0.98110, std: 0.00056, params: {'learning_rate': 0.4, 'n_estimators': 50},\n",
       " mean: 0.98045, std: 0.00067, params: {'learning_rate': 0.4, 'n_estimators': 100},\n",
       " mean: 0.97930, std: 0.00141, params: {'learning_rate': 0.4, 'n_estimators': 150},\n",
       " mean: 0.97890, std: 0.00163, params: {'learning_rate': 0.4, 'n_estimators': 200}]"
      ]
     },
     "execution_count": 42,
     "metadata": {},
     "output_type": "execute_result"
    }
   ],
   "source": [
    "#使用网格搜索选择最佳迭代次数和惩罚系数\n",
    "from sklearn.model_selection import GridSearchCV\n",
    "gscv1 = GridSearchCV(estimator=GradientBoostingClassifier(),\n",
    "                     param_grid={'n_estimators':[50,100,150,200],'learning_rate':[0.1,0.3,0.4]})\n",
    "gscv1.fit(x,y)\n",
    "print(gscv1.best_score_,gscv1.best_params_)\n",
    "gscv1.grid_scores_"
   ]
  },
  {
   "cell_type": "code",
   "execution_count": 43,
   "metadata": {},
   "outputs": [
    {
     "name": "stdout",
     "output_type": "stream",
     "text": [
      "0.9838 {'max_depth': 5, 'min_samples_split': 500}\n"
     ]
    },
    {
     "data": {
      "text/plain": [
       "[mean: 0.98345, std: 0.00049, params: {'max_depth': 3, 'min_samples_split': 100},\n",
       " mean: 0.98340, std: 0.00058, params: {'max_depth': 3, 'min_samples_split': 300},\n",
       " mean: 0.98360, std: 0.00028, params: {'max_depth': 3, 'min_samples_split': 500},\n",
       " mean: 0.98375, std: 0.00028, params: {'max_depth': 3, 'min_samples_split': 700},\n",
       " mean: 0.98295, std: 0.00086, params: {'max_depth': 5, 'min_samples_split': 100},\n",
       " mean: 0.98370, std: 0.00019, params: {'max_depth': 5, 'min_samples_split': 300},\n",
       " mean: 0.98380, std: 0.00012, params: {'max_depth': 5, 'min_samples_split': 500},\n",
       " mean: 0.98370, std: 0.00014, params: {'max_depth': 5, 'min_samples_split': 700},\n",
       " mean: 0.98300, std: 0.00107, params: {'max_depth': 7, 'min_samples_split': 100},\n",
       " mean: 0.98350, std: 0.00021, params: {'max_depth': 7, 'min_samples_split': 300},\n",
       " mean: 0.98360, std: 0.00014, params: {'max_depth': 7, 'min_samples_split': 500},\n",
       " mean: 0.98355, std: 0.00019, params: {'max_depth': 7, 'min_samples_split': 700},\n",
       " mean: 0.98265, std: 0.00098, params: {'max_depth': 9, 'min_samples_split': 100},\n",
       " mean: 0.98325, std: 0.00043, params: {'max_depth': 9, 'min_samples_split': 300},\n",
       " mean: 0.98370, std: 0.00007, params: {'max_depth': 9, 'min_samples_split': 500},\n",
       " mean: 0.98340, std: 0.00007, params: {'max_depth': 9, 'min_samples_split': 700},\n",
       " mean: 0.98285, std: 0.00107, params: {'max_depth': 11, 'min_samples_split': 100},\n",
       " mean: 0.98325, std: 0.00037, params: {'max_depth': 11, 'min_samples_split': 300},\n",
       " mean: 0.98340, std: 0.00019, params: {'max_depth': 11, 'min_samples_split': 500},\n",
       " mean: 0.98340, std: 0.00031, params: {'max_depth': 11, 'min_samples_split': 700},\n",
       " mean: 0.98260, std: 0.00080, params: {'max_depth': 13, 'min_samples_split': 100},\n",
       " mean: 0.98330, std: 0.00019, params: {'max_depth': 13, 'min_samples_split': 300},\n",
       " mean: 0.98370, std: 0.00019, params: {'max_depth': 13, 'min_samples_split': 500},\n",
       " mean: 0.98345, std: 0.00028, params: {'max_depth': 13, 'min_samples_split': 700}]"
      ]
     },
     "execution_count": 43,
     "metadata": {},
     "output_type": "execute_result"
    }
   ],
   "source": [
    "#使用网格搜索选择最大深度和叶子节点划分阈值\n",
    "gscv1 = GridSearchCV(estimator=GradientBoostingClassifier(n_estimators=50,learning_rate=0.1),\n",
    "                     param_grid={'max_depth':range(3,14,2), 'min_samples_split':range(100,801,200)})\n",
    "gscv1.fit(x,y)\n",
    "print(gscv1.best_score_,gscv1.best_params_)\n",
    "gscv1.grid_scores_"
   ]
  },
  {
   "cell_type": "code",
   "execution_count": 40,
   "metadata": {},
   "outputs": [
    {
     "name": "stdout",
     "output_type": "stream",
     "text": [
      "0.9833 {'n_estimators': 30}\n"
     ]
    }
   ],
   "source": [
    "#使用上述选择的参数训练新网络\n",
    "gbm1 = GradientBoostingClassifier()\n",
    "gbm1.fit(x,y)\n",
    "y_pred = gbm1.predict(x)\n",
    "print(metrics.accuracy_score(y_pred,y))"
   ]
  },
  {
   "cell_type": "code",
   "execution_count": null,
   "metadata": {},
   "outputs": [],
   "source": []
  }
 ],
 "metadata": {
  "kernelspec": {
   "display_name": "Python 3",
   "language": "python",
   "name": "python3"
  },
  "language_info": {
   "codemirror_mode": {
    "name": "ipython",
    "version": 3
   },
   "file_extension": ".py",
   "mimetype": "text/x-python",
   "name": "python",
   "nbconvert_exporter": "python",
   "pygments_lexer": "ipython3",
   "version": "3.6.4"
  }
 },
 "nbformat": 4,
 "nbformat_minor": 2
}
