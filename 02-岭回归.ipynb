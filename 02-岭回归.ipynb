{
 "cells": [
  {
   "cell_type": "code",
   "execution_count": 6,
   "metadata": {},
   "outputs": [],
   "source": [
    "import pandas as pd"
   ]
  },
  {
   "cell_type": "code",
   "execution_count": 7,
   "metadata": {},
   "outputs": [
    {
     "name": "stdout",
     "output_type": "stream",
     "text": [
      "      AT      V       AP     RH      PE\n",
      "0   8.34  40.77  1010.84  90.01  480.48\n",
      "1  23.64  58.49  1011.40  74.20  445.75\n",
      "2  29.74  56.90  1007.15  41.91  438.76\n",
      "3  19.07  49.69  1007.22  76.79  453.09\n",
      "4  11.80  40.66  1017.13  97.20  464.43\n",
      "(9568, 4)\n",
      "(9568, 1)\n"
     ]
    }
   ],
   "source": [
    "#准备数据集\n",
    "data = pd.read_csv('F:\\MyCode\\sklearn-ML\\DataSets\\Folds5x2_pp.csv')\n",
    "X = data[['AT','V','AP','RH']]\n",
    "Y = data[['PE']]\n",
    "print(data.head())\n",
    "print(X.shape)\n",
    "print(Y.shape)"
   ]
  },
  {
   "cell_type": "code",
   "execution_count": 10,
   "metadata": {},
   "outputs": [
    {
     "name": "stdout",
     "output_type": "stream",
     "text": [
      "(7176, 4)\n",
      "(7176, 1)\n",
      "(2392, 4)\n",
      "(2392, 1)\n"
     ]
    }
   ],
   "source": [
    "#划分数据集和验证集\n",
    "from sklearn.model_selection import train_test_split\n",
    "x_train,x_test,y_train,y_test = train_test_split(X,Y)\n",
    "print(x_train.shape)\n",
    "print(y_train.shape)\n",
    "print(x_test.shape)\n",
    "print(y_test.shape)"
   ]
  },
  {
   "cell_type": "code",
   "execution_count": 11,
   "metadata": {},
   "outputs": [
    {
     "name": "stdout",
     "output_type": "stream",
     "text": [
      "[[-1.96456771 -0.24119535  0.05973821 -0.15571668]]\n",
      "[456.9920916]\n"
     ]
    }
   ],
   "source": [
    "#训练Ridge回归模型\n",
    "from sklearn import linear_model\n",
    "ridge = linear_model.Ridge(alpha=1)\n",
    "ridge.fit(x_train,y_train)\n",
    "print(ridge.coef_)\n",
    "print(ridge.intercept_)"
   ]
  },
  {
   "cell_type": "code",
   "execution_count": 27,
   "metadata": {},
   "outputs": [
    {
     "name": "stdout",
     "output_type": "stream",
     "text": [
      "20.52944559725618\n"
     ]
    }
   ],
   "source": [
    "#预测和评估\n",
    "from sklearn import metrics\n",
    "y_pred = ridge.predict(x_test)\n",
    "print(metrics.mean_squared_error(y_pred,y_test))"
   ]
  },
  {
   "cell_type": "code",
   "execution_count": 25,
   "metadata": {},
   "outputs": [
    {
     "name": "stdout",
     "output_type": "stream",
     "text": [
      "[[-1.96439107 -0.24126203  0.05978328 -0.15568712]]\n",
      "[456.9444074]\n",
      "7.25\n"
     ]
    }
   ],
   "source": [
    "#使用交叉验证选择最佳惩罚系数\n",
    "ridgeCV = linear_model.RidgeCV(alphas=[7.1,7.2,7.25,7.3])\n",
    "ridgeCV.fit(x_train,y_train)\n",
    "print(ridgeCV.coef_)\n",
    "print(ridgeCV.intercept_)\n",
    "print(ridgeCV.alpha_)"
   ]
  },
  {
   "cell_type": "code",
   "execution_count": 28,
   "metadata": {},
   "outputs": [
    {
     "name": "stdout",
     "output_type": "stream",
     "text": [
      "20.529613330223114\n"
     ]
    }
   ],
   "source": [
    "#预测和评估\n",
    "y_cv_pred = ridgeCV.predict(x_test)\n",
    "print(metrics.mean_squared_error(y_cv_pred,y_test))"
   ]
  },
  {
   "cell_type": "code",
   "execution_count": null,
   "metadata": {},
   "outputs": [],
   "source": [
    "#画图观察数据\n",
    "from matplotlib import pyplot as plt\n",
    "plt.scatter(x_test['V'],y_test)\n",
    "plt.plot(x_test['V'],y_cv_pred)\n",
    "plt.show()"
   ]
  },
  {
   "cell_type": "code",
   "execution_count": null,
   "metadata": {},
   "outputs": [],
   "source": []
  }
 ],
 "metadata": {
  "kernelspec": {
   "display_name": "Python 3",
   "language": "python",
   "name": "python3"
  },
  "language_info": {
   "codemirror_mode": {
    "name": "ipython",
    "version": 3
   },
   "file_extension": ".py",
   "mimetype": "text/x-python",
   "name": "python",
   "nbconvert_exporter": "python",
   "pygments_lexer": "ipython3",
   "version": "3.6.4"
  }
 },
 "nbformat": 4,
 "nbformat_minor": 2
}
