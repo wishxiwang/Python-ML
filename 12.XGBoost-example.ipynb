{
 "cells": [
  {
   "cell_type": "code",
   "execution_count": 12,
   "metadata": {},
   "outputs": [
    {
     "name": "stdout",
     "output_type": "stream",
     "text": [
      "(7500, 20)\n",
      "(2500, 20)\n",
      "(7500,)\n",
      "(2500, 20)\n"
     ]
    }
   ],
   "source": [
    "#生成样本:共10000个样本，每个样本20个特征，输出有2个类别，没有冗余特征，每个类别一个簇\n",
    "#划分训练集和测试集\n",
    "from sklearn.datasets import make_classification\n",
    "from sklearn.model_selection import train_test_split\n",
    "import warnings\n",
    "warnings.filterwarnings(module='sklearn*', action='ignore', category=DeprecationWarning)\n",
    "x,y = make_classification(n_samples=10000,n_features=20,n_classes=2,n_clusters_per_class=1,n_redundant=0)\n",
    "x_train,x_test,y_train,y_test=train_test_split(x,y)\n",
    "print(x_train.shape)\n",
    "print(x_test.shape)\n",
    "print(y_train.shape)\n",
    "print(x_test.shape)"
   ]
  },
  {
   "cell_type": "code",
   "execution_count": 16,
   "metadata": {},
   "outputs": [
    {
     "data": {
      "text/plain": [
       "0.9872"
      ]
     },
     "execution_count": 16,
     "metadata": {},
     "output_type": "execute_result"
    }
   ],
   "source": [
    "#用xgb分类器拟合\n",
    "import xgboost as xgb\n",
    "from sklearn import metrics\n",
    "xgbm = xgb.XGBClassifier(objective='binary:logistic',random_state=1)\n",
    "xgbm.fit(x_train, y_train)\n",
    "y_pred = xgbm.predict(x_test)\n",
    "metrics.accuracy_score(y_pred,y_test)"
   ]
  },
  {
   "cell_type": "code",
   "execution_count": 21,
   "metadata": {},
   "outputs": [
    {
     "name": "stdout",
     "output_type": "stream",
     "text": [
      "0.9886666666666667 {'learning_rate': 0.2, 'n_estimators': 30}\n"
     ]
    }
   ],
   "source": [
    "#使用网格搜索调整n_estimators和learning_rate\n",
    "from sklearn.model_selection import GridSearchCV\n",
    "gscv = GridSearchCV(xgb.XGBClassifier(),param_grid={'n_estimators':[10,30,50,70],'learning_rate':[0.1,0.2,0.4,0.6]})\n",
    "gscv.fit(x_train,y_train)\n",
    "print(gscv.best_score_,gscv.best_params_)"
   ]
  },
  {
   "cell_type": "code",
   "execution_count": 24,
   "metadata": {},
   "outputs": [
    {
     "name": "stdout",
     "output_type": "stream",
     "text": [
      "0.9886666666666667 {'learning_rate': 0.15, 'n_estimators': 35}\n"
     ]
    }
   ],
   "source": [
    "#继续调整n_estimators和learning_rate\n",
    "gscv = GridSearchCV(xgb.XGBClassifier(),param_grid={'n_estimators':[25,35,40],'learning_rate':[0.1,0.15,0.2]})\n",
    "gscv.fit(x_train,y_train)\n",
    "print(gscv.best_score_,gscv.best_params_)"
   ]
  },
  {
   "cell_type": "code",
   "execution_count": 25,
   "metadata": {},
   "outputs": [
    {
     "name": "stdout",
     "output_type": "stream",
     "text": [
      "0.9886666666666667 {'max_depth': 3}\n"
     ]
    }
   ],
   "source": [
    "#调整深度max_depth=4\n",
    "gscv = GridSearchCV(xgb.XGBClassifier(n_estimators=35,learning_rate=0.15),param_grid={'max_depth':[2,3,4]})\n",
    "gscv.fit(x_train,y_train)\n",
    "print(gscv.best_score_,gscv.best_params_)"
   ]
  },
  {
   "cell_type": "code",
   "execution_count": 26,
   "metadata": {},
   "outputs": [
    {
     "data": {
      "text/plain": [
       "0.9928"
      ]
     },
     "execution_count": 26,
     "metadata": {},
     "output_type": "execute_result"
    }
   ],
   "source": [
    "#用选定的超参数进行测试\n",
    "xgbm1 = xgb.XGBClassifier(n_estimators=35,learning_rate=0.15,max_depth=3)\n",
    "xgbm1.fit(x_test,y_test)\n",
    "y_pred1 = xgbm1.predict(x_test)\n",
    "metrics.accuracy_score(y_pred1,y_test)"
   ]
  },
  {
   "cell_type": "code",
   "execution_count": null,
   "metadata": {},
   "outputs": [],
   "source": []
  }
 ],
 "metadata": {
  "kernelspec": {
   "display_name": "Python 3",
   "language": "python",
   "name": "python3"
  },
  "language_info": {
   "codemirror_mode": {
    "name": "ipython",
    "version": 3
   },
   "file_extension": ".py",
   "mimetype": "text/x-python",
   "name": "python",
   "nbconvert_exporter": "python",
   "pygments_lexer": "ipython3",
   "version": "3.6.4"
  }
 },
 "nbformat": 4,
 "nbformat_minor": 2
}
