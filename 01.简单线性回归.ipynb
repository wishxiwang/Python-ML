{
 "cells": [
  {
   "cell_type": "code",
   "execution_count": 64,
   "metadata": {},
   "outputs": [],
   "source": [
    "from matplotlib import pyplot as plt\n",
    "%matplotlib inline\n",
    "import numpy as np\n",
    "from sklearn import linear_model,datasets\n",
    "from sklearn import metrics"
   ]
  },
  {
   "cell_type": "code",
   "execution_count": 65,
   "metadata": {},
   "outputs": [
    {
     "name": "stdout",
     "output_type": "stream",
     "text": [
      "(442, 10)\n",
      "(442,)\n",
      "(442, 1)\n"
     ]
    }
   ],
   "source": [
    "data1 = datasets.load_diabetes()\n",
    "print(data1.data.shape)\n",
    "print(data1.target.shape)\n",
    "X = data1.data[:,2,np.newaxis]#数据集取一个维度特征进行预测\n",
    "Y = data1.target\n",
    "print(X.shape)"
   ]
  },
  {
   "cell_type": "code",
   "execution_count": 66,
   "metadata": {},
   "outputs": [
    {
     "name": "stdout",
     "output_type": "stream",
     "text": [
      "(331, 1)\n",
      "(111, 1)\n",
      "(331,)\n",
      "(111,)\n"
     ]
    }
   ],
   "source": [
    "#划分数据集和测试集\n",
    "x_train,x_test,y_train,y_test = train_test_split(X,Y)\n",
    "print(x_train.shape)\n",
    "print(x_test.shape)\n",
    "print(y_train.shape)\n",
    "print(y_test.shape)"
   ]
  },
  {
   "cell_type": "code",
   "execution_count": 67,
   "metadata": {},
   "outputs": [
    {
     "name": "stdout",
     "output_type": "stream",
     "text": [
      "152.47685144400376\n",
      "[972.58294614]\n"
     ]
    }
   ],
   "source": [
    "#训练模型\n",
    "linereg1 = linear_model.LinearRegression()\n",
    "linereg1.fit(x_train,y_train)\n",
    "print(linereg1.intercept_)\n",
    "print(linereg1.coef_)"
   ]
  },
  {
   "cell_type": "code",
   "execution_count": 68,
   "metadata": {},
   "outputs": [
    {
     "name": "stdout",
     "output_type": "stream",
     "text": [
      "Mean mean_squared_error: 3943.395695867979\n"
     ]
    }
   ],
   "source": [
    "#预测结果并评估\n",
    "y_pred = linereg1.predict(x_test)\n",
    "metrics.mean_squared_error(y_pred,y_test)\n",
    "print(\"Mean mean_squared_error:\",metrics.mean_squared_error(y_test,y_pred))"
   ]
  },
  {
   "cell_type": "code",
   "execution_count": 69,
   "metadata": {},
   "outputs": [
    {
     "data": {
      "image/png": "[encoded data removed]",
      "text/plain": [
       "<matplotlib.figure.Figure at 0x2086d5945c0>"
      ]
     },
     "metadata": {},
     "output_type": "display_data"
    }
   ],
   "source": [
    "#画图展示拟合效果\n",
    "plt.plot(x_test,y_pred)\n",
    "plt.scatter(x_test,y_test)\n",
    "plt.show()"
   ]
  },
  {
   "cell_type": "code",
   "execution_count": 73,
   "metadata": {},
   "outputs": [
    {
     "name": "stdout",
     "output_type": "stream",
     "text": [
      "Mean mean_squared_error: 3906.4601200059988\n"
     ]
    }
   ],
   "source": [
    "#进行10折交叉验证\n",
    "from sklearn.cross_validation import cross_val_predict\n",
    "y_cv_pred = cross_val_predict(linereg1,X,Y,cv=10)\n",
    "print(\"Mean mean_squared_error:\",metrics.mean_squared_error(Y,y_cv_pred))"
   ]
  }
 ],
 "metadata": {
  "kernelspec": {
   "display_name": "Python 3",
   "language": "python",
   "name": "python3"
  },
  "language_info": {
   "codemirror_mode": {
    "name": "ipython",
    "version": 3
   },
   "file_extension": ".py",
   "mimetype": "text/x-python",
   "name": "python",
   "nbconvert_exporter": "python",
   "pygments_lexer": "ipython3",
   "version": "3.6.4"
  }
 },
 "nbformat": 4,
 "nbformat_minor": 2
}
